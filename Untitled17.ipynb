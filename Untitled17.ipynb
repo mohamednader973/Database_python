{
  "nbformat": 4,
  "nbformat_minor": 0,
  "metadata": {
    "colab": {
      "name": "Untitled17.ipynb",
      "provenance": [],
      "authorship_tag": "ABX9TyPEwA8J8VGA9Pv4gYNwAmAu",
      "include_colab_link": true
    },
    "kernelspec": {
      "name": "python3",
      "display_name": "Python 3"
    },
    "language_info": {
      "name": "python"
    }
  },
  "cells": [
    {
      "cell_type": "markdown",
      "metadata": {
        "id": "view-in-github",
        "colab_type": "text"
      },
      "source": [
        "<a href=\"https://colab.research.google.com/github/mohamednader973/Database_python/blob/main/Untitled17.ipynb\" target=\"_parent\"><img src=\"https://colab.research.google.com/assets/colab-badge.svg\" alt=\"Open In Colab\"/></a>"
      ]
    },
    {
      "cell_type": "markdown",
      "metadata": {
        "id": "cKr1Ch026X1D"
      },
      "source": [
        "Database implementation using python"
      ]
    },
    {
      "cell_type": "code",
      "metadata": {
        "colab": {
          "base_uri": "https://localhost:8080/"
        },
        "id": "mU47M4_i6WyF",
        "outputId": "1703f9e6-af4d-45c1-e2c6-b862322f2895"
      },
      "source": [
        "!pip install ibm_db\n",
        "import ibm_db"
      ],
      "execution_count": 5,
      "outputs": [
        {
          "output_type": "stream",
          "name": "stdout",
          "text": [
            "Collecting ibm_db\n",
            "  Downloading ibm_db-3.1.0.tar.gz (797 kB)\n",
            "\u001b[?25l\r\u001b[K     |▍                               | 10 kB 20.6 MB/s eta 0:00:01\r\u001b[K     |▉                               | 20 kB 23.8 MB/s eta 0:00:01\r\u001b[K     |█▎                              | 30 kB 13.8 MB/s eta 0:00:01\r\u001b[K     |█▋                              | 40 kB 9.9 MB/s eta 0:00:01\r\u001b[K     |██                              | 51 kB 5.3 MB/s eta 0:00:01\r\u001b[K     |██▌                             | 61 kB 5.4 MB/s eta 0:00:01\r\u001b[K     |██▉                             | 71 kB 6.2 MB/s eta 0:00:01\r\u001b[K     |███▎                            | 81 kB 6.1 MB/s eta 0:00:01\r\u001b[K     |███▊                            | 92 kB 4.9 MB/s eta 0:00:01\r\u001b[K     |████                            | 102 kB 5.3 MB/s eta 0:00:01\r\u001b[K     |████▌                           | 112 kB 5.3 MB/s eta 0:00:01\r\u001b[K     |█████                           | 122 kB 5.3 MB/s eta 0:00:01\r\u001b[K     |█████▍                          | 133 kB 5.3 MB/s eta 0:00:01\r\u001b[K     |█████▊                          | 143 kB 5.3 MB/s eta 0:00:01\r\u001b[K     |██████▏                         | 153 kB 5.3 MB/s eta 0:00:01\r\u001b[K     |██████▋                         | 163 kB 5.3 MB/s eta 0:00:01\r\u001b[K     |███████                         | 174 kB 5.3 MB/s eta 0:00:01\r\u001b[K     |███████▍                        | 184 kB 5.3 MB/s eta 0:00:01\r\u001b[K     |███████▉                        | 194 kB 5.3 MB/s eta 0:00:01\r\u001b[K     |████████▏                       | 204 kB 5.3 MB/s eta 0:00:01\r\u001b[K     |████████▋                       | 215 kB 5.3 MB/s eta 0:00:01\r\u001b[K     |█████████                       | 225 kB 5.3 MB/s eta 0:00:01\r\u001b[K     |█████████▌                      | 235 kB 5.3 MB/s eta 0:00:01\r\u001b[K     |█████████▉                      | 245 kB 5.3 MB/s eta 0:00:01\r\u001b[K     |██████████▎                     | 256 kB 5.3 MB/s eta 0:00:01\r\u001b[K     |██████████▊                     | 266 kB 5.3 MB/s eta 0:00:01\r\u001b[K     |███████████                     | 276 kB 5.3 MB/s eta 0:00:01\r\u001b[K     |███████████▌                    | 286 kB 5.3 MB/s eta 0:00:01\r\u001b[K     |████████████                    | 296 kB 5.3 MB/s eta 0:00:01\r\u001b[K     |████████████▎                   | 307 kB 5.3 MB/s eta 0:00:01\r\u001b[K     |████████████▊                   | 317 kB 5.3 MB/s eta 0:00:01\r\u001b[K     |█████████████▏                  | 327 kB 5.3 MB/s eta 0:00:01\r\u001b[K     |█████████████▋                  | 337 kB 5.3 MB/s eta 0:00:01\r\u001b[K     |██████████████                  | 348 kB 5.3 MB/s eta 0:00:01\r\u001b[K     |██████████████▍                 | 358 kB 5.3 MB/s eta 0:00:01\r\u001b[K     |██████████████▉                 | 368 kB 5.3 MB/s eta 0:00:01\r\u001b[K     |███████████████▏                | 378 kB 5.3 MB/s eta 0:00:01\r\u001b[K     |███████████████▋                | 389 kB 5.3 MB/s eta 0:00:01\r\u001b[K     |████████████████                | 399 kB 5.3 MB/s eta 0:00:01\r\u001b[K     |████████████████▍               | 409 kB 5.3 MB/s eta 0:00:01\r\u001b[K     |████████████████▉               | 419 kB 5.3 MB/s eta 0:00:01\r\u001b[K     |█████████████████▎              | 430 kB 5.3 MB/s eta 0:00:01\r\u001b[K     |█████████████████▊              | 440 kB 5.3 MB/s eta 0:00:01\r\u001b[K     |██████████████████              | 450 kB 5.3 MB/s eta 0:00:01\r\u001b[K     |██████████████████▌             | 460 kB 5.3 MB/s eta 0:00:01\r\u001b[K     |███████████████████             | 471 kB 5.3 MB/s eta 0:00:01\r\u001b[K     |███████████████████▎            | 481 kB 5.3 MB/s eta 0:00:01\r\u001b[K     |███████████████████▊            | 491 kB 5.3 MB/s eta 0:00:01\r\u001b[K     |████████████████████▏           | 501 kB 5.3 MB/s eta 0:00:01\r\u001b[K     |████████████████████▌           | 512 kB 5.3 MB/s eta 0:00:01\r\u001b[K     |█████████████████████           | 522 kB 5.3 MB/s eta 0:00:01\r\u001b[K     |█████████████████████▍          | 532 kB 5.3 MB/s eta 0:00:01\r\u001b[K     |█████████████████████▉          | 542 kB 5.3 MB/s eta 0:00:01\r\u001b[K     |██████████████████████▏         | 552 kB 5.3 MB/s eta 0:00:01\r\u001b[K     |██████████████████████▋         | 563 kB 5.3 MB/s eta 0:00:01\r\u001b[K     |███████████████████████         | 573 kB 5.3 MB/s eta 0:00:01\r\u001b[K     |███████████████████████▍        | 583 kB 5.3 MB/s eta 0:00:01\r\u001b[K     |███████████████████████▉        | 593 kB 5.3 MB/s eta 0:00:01\r\u001b[K     |████████████████████████▎       | 604 kB 5.3 MB/s eta 0:00:01\r\u001b[K     |████████████████████████▋       | 614 kB 5.3 MB/s eta 0:00:01\r\u001b[K     |█████████████████████████       | 624 kB 5.3 MB/s eta 0:00:01\r\u001b[K     |█████████████████████████▌      | 634 kB 5.3 MB/s eta 0:00:01\r\u001b[K     |██████████████████████████      | 645 kB 5.3 MB/s eta 0:00:01\r\u001b[K     |██████████████████████████▎     | 655 kB 5.3 MB/s eta 0:00:01\r\u001b[K     |██████████████████████████▊     | 665 kB 5.3 MB/s eta 0:00:01\r\u001b[K     |███████████████████████████▏    | 675 kB 5.3 MB/s eta 0:00:01\r\u001b[K     |███████████████████████████▌    | 686 kB 5.3 MB/s eta 0:00:01\r\u001b[K     |████████████████████████████    | 696 kB 5.3 MB/s eta 0:00:01\r\u001b[K     |████████████████████████████▍   | 706 kB 5.3 MB/s eta 0:00:01\r\u001b[K     |████████████████████████████▊   | 716 kB 5.3 MB/s eta 0:00:01\r\u001b[K     |█████████████████████████████▏  | 727 kB 5.3 MB/s eta 0:00:01\r\u001b[K     |█████████████████████████████▋  | 737 kB 5.3 MB/s eta 0:00:01\r\u001b[K     |██████████████████████████████  | 747 kB 5.3 MB/s eta 0:00:01\r\u001b[K     |██████████████████████████████▍ | 757 kB 5.3 MB/s eta 0:00:01\r\u001b[K     |██████████████████████████████▉ | 768 kB 5.3 MB/s eta 0:00:01\r\u001b[K     |███████████████████████████████▎| 778 kB 5.3 MB/s eta 0:00:01\r\u001b[K     |███████████████████████████████▋| 788 kB 5.3 MB/s eta 0:00:01\r\u001b[K     |████████████████████████████████| 797 kB 5.3 MB/s \n",
            "\u001b[?25h  Installing build dependencies ... \u001b[?25l\u001b[?25hdone\n",
            "  Getting requirements to build wheel ... \u001b[?25l\u001b[?25hdone\n",
            "  Installing backend dependencies ... \u001b[?25l\u001b[?25hdone\n",
            "    Preparing wheel metadata ... \u001b[?25l\u001b[?25hdone\n",
            "Building wheels for collected packages: ibm-db\n",
            "  Building wheel for ibm-db (PEP 517) ... \u001b[?25l\u001b[?25hdone\n",
            "  Created wheel for ibm-db: filename=ibm_db-3.1.0-cp37-cp37m-linux_x86_64.whl size=41002870 sha256=fded2a3bc27c8c57e6ec0e1860f6b7cea46aa2abe671437f93ba59af6560b680\n",
            "  Stored in directory: /root/.cache/pip/wheels/47/0a/77/b8b3be9a85b29763931206a34e13bcc1764e3ef13548d09797\n",
            "Successfully built ibm-db\n",
            "Installing collected packages: ibm-db\n",
            "Successfully installed ibm-db-3.1.0\n"
          ]
        }
      ]
    },
    {
      "cell_type": "code",
      "metadata": {
        "id": "mV1J89rW7KIc"
      },
      "source": [
        "dsn_hostname = \"0c77d6f2-5da9-48a9-81f8-86b520b87518.bs2io90l08kqb1od8lcg.databases.appdomain.cloud\" # e.g.: \"54a2f15b-5c0f-46df-8954-7e38e612c2bd.c1ogj3sd0tgtu0lqde00.databases.appdomain.cloud\"\n",
        "dsn_uid = \"kpc71984\"        # e.g. \"abc12345\"\n",
        "dsn_pwd = \"waxxqQuQdQBVLUrT\"      # e.g. \"7dBZ3wWt9XN6$o0J\"\n",
        "\n",
        "dsn_driver = \"{IBM DB2 ODBC DRIVER}\"\n",
        "dsn_database = \"BLUDB\"            # e.g. \"BLUDB\"\n",
        "dsn_port = \"31198\"                # e.g. \"32733\" \n",
        "dsn_protocol = \"TCPIP\"            # i.e. \"TCPIP\"\n",
        "dsn_security = \"SSL\"              #i.e. \"SSL\""
      ],
      "execution_count": 6,
      "outputs": []
    },
    {
      "cell_type": "code",
      "metadata": {
        "colab": {
          "base_uri": "https://localhost:8080/"
        },
        "id": "BNoSerEh9B8L",
        "outputId": "dee8184f-1eec-4461-fb35-8031389d0952"
      },
      "source": [
        "dsn = (\n",
        "    \"DRIVER={0};\"\n",
        "    \"DATABASE={1};\"\n",
        "    \"HOSTNAME={2};\"\n",
        "    \"PORT={3};\"\n",
        "    \"PROTOCOL={4};\"\n",
        "    \"UID={5};\"\n",
        "    \"PWD={6};\"\n",
        "    \"SECURITY={7};\").format(dsn_driver, dsn_database, dsn_hostname, dsn_port, dsn_protocol, dsn_uid, dsn_pwd,dsn_security)\n",
        "print(dsn) "
      ],
      "execution_count": 7,
      "outputs": [
        {
          "output_type": "stream",
          "name": "stdout",
          "text": [
            "DRIVER={IBM DB2 ODBC DRIVER};DATABASE=BLUDB;HOSTNAME=0c77d6f2-5da9-48a9-81f8-86b520b87518.bs2io90l08kqb1od8lcg.databases.appdomain.cloud;PORT=31198;PROTOCOL=TCPIP;UID=kpc71984;PWD=waxxqQuQdQBVLUrT;SECURITY=SSL;\n"
          ]
        }
      ]
    },
    {
      "cell_type": "code",
      "metadata": {
        "colab": {
          "base_uri": "https://localhost:8080/"
        },
        "id": "itNt2LpW9QKV",
        "outputId": "be8280ee-0a85-4b2d-b4d9-22863572f2b1"
      },
      "source": [
        "try:\n",
        "    conn = ibm_db.connect(dsn, \"\", \"\")\n",
        "    print (\"Connected to database: \", dsn_database, \"as user: \", dsn_uid, \"on host: \", dsn_hostname)\n",
        "\n",
        "except:\n",
        "    print (\"Unable to connect: \", ibm_db.conn_errormsg() )"
      ],
      "execution_count": 8,
      "outputs": [
        {
          "output_type": "stream",
          "name": "stdout",
          "text": [
            "Connected to database:  BLUDB as user:  kpc71984 on host:  0c77d6f2-5da9-48a9-81f8-86b520b87518.bs2io90l08kqb1od8lcg.databases.appdomain.cloud\n"
          ]
        }
      ]
    },
    {
      "cell_type": "code",
      "metadata": {
        "id": "caWTE-qXDSN-",
        "colab": {
          "base_uri": "https://localhost:8080/"
        },
        "outputId": "97bd4ba0-bdc0-45a0-cced-9cb983eea35f"
      },
      "source": [
        "server = ibm_db.server_info(conn)\n",
        "\n",
        "print (\"DBMS_NAME: \", server.DBMS_NAME)\n",
        "print (\"DBMS_VER:  \", server.DBMS_VER)\n",
        "print (\"DB_NAME:   \", server.DB_NAME)"
      ],
      "execution_count": 9,
      "outputs": [
        {
          "output_type": "stream",
          "name": "stdout",
          "text": [
            "DBMS_NAME:  DB2/LINUXX8664\n",
            "DBMS_VER:   11.05.0600\n",
            "DB_NAME:    BLUDB\n"
          ]
        }
      ]
    },
    {
      "cell_type": "code",
      "metadata": {
        "colab": {
          "base_uri": "https://localhost:8080/"
        },
        "id": "XcZH6oJU26uU",
        "outputId": "97a1323d-ebcc-4cd2-dd80-b9017daa0dc1"
      },
      "source": [
        "client = ibm_db.client_info(conn)\n",
        "\n",
        "print (\"DRIVER_NAME:          \", client.DRIVER_NAME) \n",
        "print (\"DRIVER_VER:           \", client.DRIVER_VER)\n",
        "print (\"DATA_SOURCE_NAME:     \", client.DATA_SOURCE_NAME)\n",
        "print (\"DRIVER_ODBC_VER:      \", client.DRIVER_ODBC_VER)\n",
        "print (\"ODBC_VER:             \", client.ODBC_VER)\n",
        "print (\"ODBC_SQL_CONFORMANCE: \", client.ODBC_SQL_CONFORMANCE)\n",
        "print (\"APPL_CODEPAGE:        \", client.APPL_CODEPAGE)\n",
        "print (\"CONN_CODEPAGE:        \", client.CONN_CODEPAGE)"
      ],
      "execution_count": 11,
      "outputs": [
        {
          "output_type": "stream",
          "name": "stdout",
          "text": [
            "DRIVER_NAME:           libdb2.a\n",
            "DRIVER_VER:            11.05.0500\n",
            "DATA_SOURCE_NAME:      BLUDB\n",
            "DRIVER_ODBC_VER:       03.51\n",
            "ODBC_VER:              03.01.0000\n",
            "ODBC_SQL_CONFORMANCE:  EXTENDED\n",
            "APPL_CODEPAGE:         1208\n",
            "CONN_CODEPAGE:         1208\n"
          ]
        }
      ]
    },
    {
      "cell_type": "markdown",
      "metadata": {
        "id": "0PFuP7li2_SB"
      },
      "source": [
        "closing connection "
      ]
    },
    {
      "cell_type": "code",
      "metadata": {
        "colab": {
          "base_uri": "https://localhost:8080/"
        },
        "id": "12ZyF03H3A__",
        "outputId": "de34372e-985b-4571-f107-d41cc89037d8"
      },
      "source": [
        "ibm_db.close(conn)"
      ],
      "execution_count": 12,
      "outputs": [
        {
          "output_type": "execute_result",
          "data": {
            "text/plain": [
              "True"
            ]
          },
          "metadata": {},
          "execution_count": 12
        }
      ]
    }
  ]
}